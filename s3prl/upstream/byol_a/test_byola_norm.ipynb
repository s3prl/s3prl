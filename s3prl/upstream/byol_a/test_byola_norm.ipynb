{
 "cells": [
  {
   "attachments": {},
   "cell_type": "markdown",
   "metadata": {},
   "source": [
    "# Test the calculation code for normalization statistics\n",
    "\n",
    "BYOL-A requires the normalization statistics, the average and standard deviation, precomputed using dataset samples.\n",
    "\n",
    "The implementation for the SUPERB uses running statistics; we test them.\n",
    "\n",
    "### Results\n",
    "\n",
    "The online calculation is confirmed to be close enough to the offline calculation, which the original BYOL-A does."
   ]
  },
  {
   "cell_type": "code",
   "execution_count": 2,
   "metadata": {},
   "outputs": [],
   "source": [
    "import sys\n",
    "import numpy as np\n",
    "import torch\n",
    "import torchaudio\n",
    "from pathlib import Path\n",
    "\n",
    "# load the list of VoxCeleb1 files\n",
    "vc1files = list(Path('/lab/data/voxceleb1/dev').rglob('*.wav'))"
   ]
  },
  {
   "attachments": {},
   "cell_type": "markdown",
   "metadata": {},
   "source": [
    "## Calculate normalization statistics *offline*"
   ]
  },
  {
   "cell_type": "code",
   "execution_count": 3,
   "metadata": {},
   "outputs": [],
   "source": [
    "from byol_a import load_yaml_config, LogMelSpectrogram, RunningNorm\n",
    "\n",
    "config = load_yaml_config('./config.yaml')\n",
    "to_logmelspec = LogMelSpectrogram()\n",
    "normalizer = RunningNorm(epoch_samples=10_000, max_update_epochs=1, axis=[0, 1, 2]) # Use single scalar mean/std values."
   ]
  },
  {
   "cell_type": "code",
   "execution_count": 4,
   "metadata": {},
   "outputs": [
    {
     "data": {
      "text/plain": [
       "(torch.Size([1, 64, 8010000]), tensor(-8.9265), tensor(4.9163))"
      ]
     },
     "execution_count": 4,
     "metadata": {},
     "output_type": "execute_result"
    }
   ],
   "source": [
    "\n",
    "lms_list = []\n",
    "for f in np.random.choice(vc1files, size=10000, replace=False):\n",
    "    # load .wav data in the same way superb does.\n",
    "    wav, sr = torchaudio.load(f) # https://github.com/s3prl/s3prl/blob/main/s3prl/downstream/voxceleb1/dataset.py#L106\n",
    "    # pad in the same way we do in byol_a.py.\n",
    "    wav = torch.nn.functional.pad(wav, (0, 128000))[..., :128000]\n",
    "    # convert it to a log-mel spectrogram as a batch of single file.\n",
    "    lms = to_logmelspec(wav[None, ...])\n",
    "    lms_list.append(lms)\n",
    "\n",
    "lms_list = torch.cat(lms_list, dim=2)\n",
    "lms_list.shape, lms_list.mean(), lms_list.std()"
   ]
  },
  {
   "attachments": {},
   "cell_type": "markdown",
   "metadata": {},
   "source": [
    "## Calculate normalization statistics *online*"
   ]
  },
  {
   "cell_type": "code",
   "execution_count": 5,
   "metadata": {},
   "outputs": [],
   "source": [
    "runnorm = RunningNorm(epoch_samples=10000, max_update_epochs=1, axis=[0, 1, 2])\n",
    "for f in np.random.choice(vc1files, size=10000, replace=False):\n",
    "    # load .wav data in the same way superb does.\n",
    "    wav, sr = torchaudio.load(f) # https://github.com/s3prl/s3prl/blob/main/s3prl/downstream/voxceleb1/dataset.py#L106\n",
    "    # pad in the same way we do in byol_a.py.\n",
    "    wav = torch.nn.functional.pad(wav, (0, 128000))[..., :128000]\n",
    "    # convert it to a log-mel spectrogram as a batch of single file.\n",
    "    lms = to_logmelspec(wav[None, ...])\n",
    "    runnorm(lms)"
   ]
  },
  {
   "cell_type": "code",
   "execution_count": 6,
   "metadata": {},
   "outputs": [
    {
     "data": {
      "text/plain": [
       "(tensor([[[-8.9218]]]), tensor([[[4.9206]]]))"
      ]
     },
     "execution_count": 6,
     "metadata": {},
     "output_type": "execute_result"
    }
   ],
   "source": [
    "runnorm.ema_mean(), runnorm.ema_var().sqrt()"
   ]
  },
  {
   "cell_type": "code",
   "execution_count": null,
   "metadata": {},
   "outputs": [],
   "source": [
    "\n"
   ]
  }
 ],
 "metadata": {
  "kernelspec": {
   "display_name": "s3",
   "language": "python",
   "name": "python3"
  },
  "language_info": {
   "codemirror_mode": {
    "name": "ipython",
    "version": 3
   },
   "file_extension": ".py",
   "mimetype": "text/x-python",
   "name": "python",
   "nbconvert_exporter": "python",
   "pygments_lexer": "ipython3",
   "version": "3.8.0"
  },
  "orig_nbformat": 4,
  "vscode": {
   "interpreter": {
    "hash": "b769e84a12b6ba8ed9f2d135c68967e35d1323e05994835c25f905c90cf3b906"
   }
  }
 },
 "nbformat": 4,
 "nbformat_minor": 2
}
